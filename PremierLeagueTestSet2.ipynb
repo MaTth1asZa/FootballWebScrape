{
 "cells": [
  {
   "cell_type": "markdown",
   "metadata": {},
   "source": [
    "# Webscraping Basic Football Data"
   ]
  },
  {
   "cell_type": "markdown",
   "metadata": {},
   "source": [
    "### Basic Libraries Used"
   ]
  },
  {
   "cell_type": "code",
   "execution_count": 131,
   "metadata": {},
   "outputs": [
    {
     "name": "stdout",
     "output_type": "stream",
     "text": [
      "Requirement already satisfied: plotly==5.8.0 in c:\\users\\matty\\anaconda3\\lib\\site-packages (5.8.0)\n",
      "Requirement already satisfied: tenacity>=6.2.0 in c:\\users\\matty\\anaconda3\\lib\\site-packages (from plotly==5.8.0) (8.0.1)\n"
     ]
    },
    {
     "name": "stderr",
     "output_type": "stream",
     "text": [
      "WARNING: Ignoring invalid distribution -illow (c:\\users\\matty\\anaconda3\\lib\\site-packages)\n",
      "WARNING: Ignoring invalid distribution -illow (c:\\users\\matty\\anaconda3\\lib\\site-packages)\n",
      "WARNING: Ignoring invalid distribution -illow (c:\\users\\matty\\anaconda3\\lib\\site-packages)\n",
      "WARNING: Ignoring invalid distribution -illow (c:\\users\\matty\\anaconda3\\lib\\site-packages)\n",
      "WARNING: Ignoring invalid distribution -illow (c:\\users\\matty\\anaconda3\\lib\\site-packages)\n",
      "WARNING: Ignoring invalid distribution -illow (c:\\users\\matty\\anaconda3\\lib\\site-packages)\n",
      "WARNING: You are using pip version 22.0.4; however, version 22.1.2 is available.\n",
      "You should consider upgrading via the 'C:\\Users\\Matty\\anaconda3\\python.exe -m pip install --upgrade pip' command.\n"
     ]
    }
   ],
   "source": [
    "!pip install plotly==5.8.0"
   ]
  },
  {
   "cell_type": "code",
   "execution_count": 132,
   "metadata": {},
   "outputs": [],
   "source": [
    "import pandas as pd\n",
    "import requests\n",
    "from bs4 import BeautifulSoup\n",
    "import plotly.express as px\n",
    "import plotly.graph_objs as go\n",
    "import plotly.offline as py\n",
    "import numpy as np\n",
    "import matplotlib.pyplot as plt"
   ]
  },
  {
   "cell_type": "markdown",
   "metadata": {},
   "source": [
    "### Using BeautifulSoup Lib To Obtain HTML Data as Beautiful Soup Object"
   ]
  },
  {
   "cell_type": "code",
   "execution_count": 133,
   "metadata": {},
   "outputs": [],
   "source": [
    "#2021-2022 Premier League Wiki Page\n",
    "prem2021_2022_url = \"https://en.wikipedia.org/wiki/2021-22_Premier_League\""
   ]
  },
  {
   "cell_type": "code",
   "execution_count": 134,
   "metadata": {},
   "outputs": [
    {
     "data": {
      "text/plain": [
       "<Response [200]>"
      ]
     },
     "execution_count": 134,
     "metadata": {},
     "output_type": "execute_result"
    }
   ],
   "source": [
    "#Just request timeouts to make sure we're connecting\n",
    "s = requests.Session()\n",
    "response = s.get(prem2021_2022_url, timeout = 10)\n",
    "response"
   ]
  },
  {
   "cell_type": "code",
   "execution_count": 135,
   "metadata": {},
   "outputs": [],
   "source": [
    "html_data = BeautifulSoup(response.content, 'html.parser')\n",
    "#html_data.prettify()"
   ]
  },
  {
   "cell_type": "code",
   "execution_count": 136,
   "metadata": {},
   "outputs": [
    {
     "data": {
      "text/plain": [
       "'2021–22 Premier League - Wikipedia'"
      ]
     },
     "execution_count": 136,
     "metadata": {},
     "output_type": "execute_result"
    }
   ],
   "source": [
    "\n",
    "html_data.title.string"
   ]
  },
  {
   "cell_type": "markdown",
   "metadata": {},
   "source": [
    "### Finding A Simple Table"
   ]
  },
  {
   "cell_type": "code",
   "execution_count": 137,
   "metadata": {},
   "outputs": [
    {
     "data": {
      "text/plain": [
       "<table class=\"wikitable\" style=\"text-align:center\">\n",
       "<tbody><tr>\n",
       "<th>Rank\n",
       "</th>\n",
       "<th>Player\n",
       "</th>\n",
       "<th>Club\n",
       "</th>\n",
       "<th>Goals<sup class=\"reference\" id=\"cite_ref-top_goals_138-0\"><a href=\"#cite_note-top_goals-138\">[137]</a></sup>\n",
       "</th></tr>\n",
       "<tr>\n",
       "<td rowspan=\"2\">1\n",
       "</td>\n",
       "<td align=\"left\"><span class=\"flagicon\"><a href=\"/wiki/Egypt\" title=\"Egypt\"><img alt=\"Egypt\" class=\"thumbborder\" data-file-height=\"600\" data-file-width=\"900\" decoding=\"async\" height=\"15\" src=\"//upload.wikimedia.org/wikipedia/commons/thumb/f/fe/Flag_of_Egypt.svg/23px-Flag_of_Egypt.svg.png\" srcset=\"//upload.wikimedia.org/wikipedia/commons/thumb/f/fe/Flag_of_Egypt.svg/35px-Flag_of_Egypt.svg.png 1.5x, //upload.wikimedia.org/wikipedia/commons/thumb/f/fe/Flag_of_Egypt.svg/45px-Flag_of_Egypt.svg.png 2x\" width=\"23\"/></a></span> <a href=\"/wiki/Mohamed_Salah\" title=\"Mohamed Salah\">Mohamed Salah</a>\n",
       "</td>\n",
       "<td align=\"left\">Liverpool\n",
       "</td>\n",
       "<td rowspan=\"2\">23\n",
       "</td></tr>\n",
       "<tr>\n",
       "<td align=\"left\"><span class=\"flagicon\"><a href=\"/wiki/South_Korea\" title=\"South Korea\"><img alt=\"South Korea\" class=\"thumbborder\" data-file-height=\"600\" data-file-width=\"900\" decoding=\"async\" height=\"15\" src=\"//upload.wikimedia.org/wikipedia/commons/thumb/0/09/Flag_of_South_Korea.svg/23px-Flag_of_South_Korea.svg.png\" srcset=\"//upload.wikimedia.org/wikipedia/commons/thumb/0/09/Flag_of_South_Korea.svg/35px-Flag_of_South_Korea.svg.png 1.5x, //upload.wikimedia.org/wikipedia/commons/thumb/0/09/Flag_of_South_Korea.svg/45px-Flag_of_South_Korea.svg.png 2x\" width=\"23\"/></a></span> <a href=\"/wiki/Son_Heung-min\" title=\"Son Heung-min\">Son Heung-min</a>\n",
       "</td>\n",
       "<td align=\"left\">Tottenham Hotspur\n",
       "</td></tr>\n",
       "<tr>\n",
       "<td>3\n",
       "</td>\n",
       "<td align=\"left\"><span class=\"flagicon\"><a href=\"/wiki/Portugal\" title=\"Portugal\"><img alt=\"Portugal\" class=\"thumbborder\" data-file-height=\"400\" data-file-width=\"600\" decoding=\"async\" height=\"15\" src=\"//upload.wikimedia.org/wikipedia/commons/thumb/5/5c/Flag_of_Portugal.svg/23px-Flag_of_Portugal.svg.png\" srcset=\"//upload.wikimedia.org/wikipedia/commons/thumb/5/5c/Flag_of_Portugal.svg/35px-Flag_of_Portugal.svg.png 1.5x, //upload.wikimedia.org/wikipedia/commons/thumb/5/5c/Flag_of_Portugal.svg/45px-Flag_of_Portugal.svg.png 2x\" width=\"23\"/></a></span> <a href=\"/wiki/Cristiano_Ronaldo\" title=\"Cristiano Ronaldo\">Cristiano Ronaldo</a>\n",
       "</td>\n",
       "<td align=\"left\">Manchester United\n",
       "</td>\n",
       "<td>18\n",
       "</td></tr>\n",
       "<tr>\n",
       "<td>4\n",
       "</td>\n",
       "<td align=\"left\"><span class=\"flagicon\"><a href=\"/wiki/England\" title=\"England\"><img alt=\"England\" class=\"thumbborder\" data-file-height=\"480\" data-file-width=\"800\" decoding=\"async\" height=\"14\" src=\"//upload.wikimedia.org/wikipedia/en/thumb/b/be/Flag_of_England.svg/23px-Flag_of_England.svg.png\" srcset=\"//upload.wikimedia.org/wikipedia/en/thumb/b/be/Flag_of_England.svg/35px-Flag_of_England.svg.png 1.5x, //upload.wikimedia.org/wikipedia/en/thumb/b/be/Flag_of_England.svg/46px-Flag_of_England.svg.png 2x\" width=\"23\"/></a></span> <a href=\"/wiki/Harry_Kane\" title=\"Harry Kane\">Harry Kane</a>\n",
       "</td>\n",
       "<td align=\"left\">Tottenham Hotspur\n",
       "</td>\n",
       "<td>17\n",
       "</td></tr>\n",
       "<tr>\n",
       "<td>5\n",
       "</td>\n",
       "<td align=\"left\"><span class=\"flagicon\"><a href=\"/wiki/Senegal\" title=\"Senegal\"><img alt=\"Senegal\" class=\"thumbborder\" data-file-height=\"600\" data-file-width=\"900\" decoding=\"async\" height=\"15\" src=\"//upload.wikimedia.org/wikipedia/commons/thumb/f/fd/Flag_of_Senegal.svg/23px-Flag_of_Senegal.svg.png\" srcset=\"//upload.wikimedia.org/wikipedia/commons/thumb/f/fd/Flag_of_Senegal.svg/35px-Flag_of_Senegal.svg.png 1.5x, //upload.wikimedia.org/wikipedia/commons/thumb/f/fd/Flag_of_Senegal.svg/45px-Flag_of_Senegal.svg.png 2x\" width=\"23\"/></a></span> <a href=\"/wiki/Sadio_Man%C3%A9\" title=\"Sadio Mané\">Sadio Mané</a>\n",
       "</td>\n",
       "<td align=\"left\">Liverpool\n",
       "</td>\n",
       "<td>16\n",
       "</td></tr>\n",
       "<tr>\n",
       "<td rowspan=\"3\">6\n",
       "</td>\n",
       "<td align=\"left\"><span class=\"flagicon\"><a href=\"/wiki/Belgium\" title=\"Belgium\"><img alt=\"Belgium\" class=\"thumbborder\" data-file-height=\"600\" data-file-width=\"900\" decoding=\"async\" height=\"15\" src=\"//upload.wikimedia.org/wikipedia/commons/thumb/9/92/Flag_of_Belgium_%28civil%29.svg/23px-Flag_of_Belgium_%28civil%29.svg.png\" srcset=\"//upload.wikimedia.org/wikipedia/commons/thumb/9/92/Flag_of_Belgium_%28civil%29.svg/35px-Flag_of_Belgium_%28civil%29.svg.png 1.5x, //upload.wikimedia.org/wikipedia/commons/thumb/9/92/Flag_of_Belgium_%28civil%29.svg/45px-Flag_of_Belgium_%28civil%29.svg.png 2x\" width=\"23\"/></a></span> <a href=\"/wiki/Kevin_De_Bruyne\" title=\"Kevin De Bruyne\">Kevin De Bruyne</a>\n",
       "</td>\n",
       "<td align=\"left\">Manchester City\n",
       "</td>\n",
       "<td rowspan=\"3\">15\n",
       "</td></tr>\n",
       "<tr>\n",
       "<td align=\"left\"><span class=\"flagicon\"><a href=\"/wiki/Portugal\" title=\"Portugal\"><img alt=\"Portugal\" class=\"thumbborder\" data-file-height=\"400\" data-file-width=\"600\" decoding=\"async\" height=\"15\" src=\"//upload.wikimedia.org/wikipedia/commons/thumb/5/5c/Flag_of_Portugal.svg/23px-Flag_of_Portugal.svg.png\" srcset=\"//upload.wikimedia.org/wikipedia/commons/thumb/5/5c/Flag_of_Portugal.svg/35px-Flag_of_Portugal.svg.png 1.5x, //upload.wikimedia.org/wikipedia/commons/thumb/5/5c/Flag_of_Portugal.svg/45px-Flag_of_Portugal.svg.png 2x\" width=\"23\"/></a></span> <a href=\"/wiki/Diogo_Jota\" title=\"Diogo Jota\">Diogo Jota</a>\n",
       "</td>\n",
       "<td align=\"left\">Liverpool\n",
       "</td></tr>\n",
       "<tr>\n",
       "<td align=\"left\"><span class=\"flagicon\"><a href=\"/wiki/England\" title=\"England\"><img alt=\"England\" class=\"thumbborder\" data-file-height=\"480\" data-file-width=\"800\" decoding=\"async\" height=\"14\" src=\"//upload.wikimedia.org/wikipedia/en/thumb/b/be/Flag_of_England.svg/23px-Flag_of_England.svg.png\" srcset=\"//upload.wikimedia.org/wikipedia/en/thumb/b/be/Flag_of_England.svg/35px-Flag_of_England.svg.png 1.5x, //upload.wikimedia.org/wikipedia/en/thumb/b/be/Flag_of_England.svg/46px-Flag_of_England.svg.png 2x\" width=\"23\"/></a></span> <a href=\"/wiki/Jamie_Vardy\" title=\"Jamie Vardy\">Jamie Vardy</a>\n",
       "</td>\n",
       "<td align=\"left\">Leicester City\n",
       "</td></tr>\n",
       "<tr>\n",
       "<td>9\n",
       "</td>\n",
       "<td align=\"left\"><span class=\"flagicon\"><a href=\"/wiki/Ivory_Coast\" title=\"Ivory Coast\"><img alt=\"Ivory Coast\" class=\"thumbborder\" data-file-height=\"600\" data-file-width=\"900\" decoding=\"async\" height=\"15\" src=\"//upload.wikimedia.org/wikipedia/commons/thumb/f/fe/Flag_of_C%C3%B4te_d%27Ivoire.svg/23px-Flag_of_C%C3%B4te_d%27Ivoire.svg.png\" srcset=\"//upload.wikimedia.org/wikipedia/commons/thumb/f/fe/Flag_of_C%C3%B4te_d%27Ivoire.svg/35px-Flag_of_C%C3%B4te_d%27Ivoire.svg.png 1.5x, //upload.wikimedia.org/wikipedia/commons/thumb/f/fe/Flag_of_C%C3%B4te_d%27Ivoire.svg/45px-Flag_of_C%C3%B4te_d%27Ivoire.svg.png 2x\" width=\"23\"/></a></span> <a href=\"/wiki/Wilfried_Zaha\" title=\"Wilfried Zaha\">Wilfried Zaha</a>\n",
       "</td>\n",
       "<td align=\"left\">Crystal Palace\n",
       "</td>\n",
       "<td>14\n",
       "</td></tr>\n",
       "<tr>\n",
       "<td>10\n",
       "</td>\n",
       "<td align=\"left\"><span class=\"flagicon\"><a href=\"/wiki/England\" title=\"England\"><img alt=\"England\" class=\"thumbborder\" data-file-height=\"480\" data-file-width=\"800\" decoding=\"async\" height=\"14\" src=\"//upload.wikimedia.org/wikipedia/en/thumb/b/be/Flag_of_England.svg/23px-Flag_of_England.svg.png\" srcset=\"//upload.wikimedia.org/wikipedia/en/thumb/b/be/Flag_of_England.svg/35px-Flag_of_England.svg.png 1.5x, //upload.wikimedia.org/wikipedia/en/thumb/b/be/Flag_of_England.svg/46px-Flag_of_England.svg.png 2x\" width=\"23\"/></a></span> <a href=\"/wiki/Raheem_Sterling\" title=\"Raheem Sterling\">Raheem Sterling</a>\n",
       "</td>\n",
       "<td align=\"left\">Manchester City\n",
       "</td>\n",
       "<td>13\n",
       "</td></tr></tbody></table>"
      ]
     },
     "execution_count": 137,
     "metadata": {},
     "output_type": "execute_result"
    }
   ],
   "source": [
    "all_tables = html_data.find_all('table')[7]\n",
    "all_tables #essentially looking through the tables and seeing what correlates with what is displayed within the browser"
   ]
  },
  {
   "cell_type": "code",
   "execution_count": 138,
   "metadata": {},
   "outputs": [
    {
     "data": {
      "text/plain": [
       "21"
      ]
     },
     "execution_count": 138,
     "metadata": {},
     "output_type": "execute_result"
    }
   ],
   "source": [
    "Stadiums_and_locations = html_data.find('table', {\"class\":'wikitable sortable'})\n",
    "rows = Stadiums_and_locations.find_all(\"tr\")\n",
    "len(rows)\n",
    "\n"
   ]
  },
  {
   "cell_type": "code",
   "execution_count": 139,
   "metadata": {},
   "outputs": [
    {
     "data": {
      "text/plain": [
       "4"
      ]
     },
     "execution_count": 139,
     "metadata": {},
     "output_type": "execute_result"
    }
   ],
   "source": [
    "for row in Stadiums_and_locations.findAll(\"tr\"):\n",
    "    cells = row.findAll('td')\n",
    "\n",
    "len(cells)"
   ]
  },
  {
   "cell_type": "code",
   "execution_count": 140,
   "metadata": {},
   "outputs": [
    {
     "name": "stdout",
     "output_type": "stream",
     "text": [
      "['Team', 'Location', 'Stadium', 'Capacity']\n",
      "------------\n",
      "4\n"
     ]
    }
   ],
   "source": [
    "header = [th.text.rstrip() for th in rows[0].find_all('th')][:]\n",
    "print(header)\n",
    "print('------------')\n",
    "print(len(header))"
   ]
  },
  {
   "cell_type": "code",
   "execution_count": 141,
   "metadata": {},
   "outputs": [
    {
     "data": {
      "text/plain": [
       "4"
      ]
     },
     "execution_count": 141,
     "metadata": {},
     "output_type": "execute_result"
    }
   ],
   "source": [
    "df = pd.DataFrame(columns=header)\n",
    "\n",
    "table_data = []\n",
    "\n",
    "for row in rows[2:]:\n",
    "            data = [d.text.rstrip() for d in row.find_all('td')]\n",
    "            table_data.append(data)\n",
    "\n",
    "len(table_data[0])"
   ]
  },
  {
   "cell_type": "code",
   "execution_count": 142,
   "metadata": {},
   "outputs": [
    {
     "data": {
      "text/html": [
       "<div>\n",
       "<style scoped>\n",
       "    .dataframe tbody tr th:only-of-type {\n",
       "        vertical-align: middle;\n",
       "    }\n",
       "\n",
       "    .dataframe tbody tr th {\n",
       "        vertical-align: top;\n",
       "    }\n",
       "\n",
       "    .dataframe thead th {\n",
       "        text-align: right;\n",
       "    }\n",
       "</style>\n",
       "<table border=\"1\" class=\"dataframe\">\n",
       "  <thead>\n",
       "    <tr style=\"text-align: right;\">\n",
       "      <th></th>\n",
       "      <th>Team</th>\n",
       "      <th>Location</th>\n",
       "      <th>Stadium</th>\n",
       "      <th>Capacity</th>\n",
       "    </tr>\n",
       "  </thead>\n",
       "  <tbody>\n",
       "    <tr>\n",
       "      <th>0</th>\n",
       "      <td>Aston Villa</td>\n",
       "      <td>Birmingham</td>\n",
       "      <td>Villa Park</td>\n",
       "      <td>42,682</td>\n",
       "    </tr>\n",
       "    <tr>\n",
       "      <th>1</th>\n",
       "      <td>Brentford</td>\n",
       "      <td>London (Brentford)</td>\n",
       "      <td>Brentford Community Stadium</td>\n",
       "      <td>17,250</td>\n",
       "    </tr>\n",
       "    <tr>\n",
       "      <th>2</th>\n",
       "      <td>Brighton &amp; Hove Albion</td>\n",
       "      <td>Falmer</td>\n",
       "      <td>Falmer Stadium</td>\n",
       "      <td>31,800</td>\n",
       "    </tr>\n",
       "    <tr>\n",
       "      <th>3</th>\n",
       "      <td>Burnley</td>\n",
       "      <td>Burnley</td>\n",
       "      <td>Turf Moor</td>\n",
       "      <td>21,944</td>\n",
       "    </tr>\n",
       "    <tr>\n",
       "      <th>4</th>\n",
       "      <td>Chelsea</td>\n",
       "      <td>London (Fulham)</td>\n",
       "      <td>Stamford Bridge</td>\n",
       "      <td>40,834</td>\n",
       "    </tr>\n",
       "    <tr>\n",
       "      <th>5</th>\n",
       "      <td>Crystal Palace</td>\n",
       "      <td>London (Selhurst)</td>\n",
       "      <td>Selhurst Park</td>\n",
       "      <td>25,486</td>\n",
       "    </tr>\n",
       "    <tr>\n",
       "      <th>6</th>\n",
       "      <td>Everton</td>\n",
       "      <td>Liverpool (Walton)</td>\n",
       "      <td>Goodison Park</td>\n",
       "      <td>39,414</td>\n",
       "    </tr>\n",
       "    <tr>\n",
       "      <th>7</th>\n",
       "      <td>Leeds United</td>\n",
       "      <td>Leeds</td>\n",
       "      <td>Elland Road</td>\n",
       "      <td>37,792</td>\n",
       "    </tr>\n",
       "    <tr>\n",
       "      <th>8</th>\n",
       "      <td>Leicester City</td>\n",
       "      <td>Leicester</td>\n",
       "      <td>King Power Stadium</td>\n",
       "      <td>32,312</td>\n",
       "    </tr>\n",
       "    <tr>\n",
       "      <th>9</th>\n",
       "      <td>Liverpool</td>\n",
       "      <td>Liverpool (Anfield)</td>\n",
       "      <td>Anfield</td>\n",
       "      <td>53,394</td>\n",
       "    </tr>\n",
       "    <tr>\n",
       "      <th>10</th>\n",
       "      <td>Manchester City</td>\n",
       "      <td>Manchester (Bradford)</td>\n",
       "      <td>Etihad Stadium</td>\n",
       "      <td>53,400</td>\n",
       "    </tr>\n",
       "    <tr>\n",
       "      <th>11</th>\n",
       "      <td>Manchester United</td>\n",
       "      <td>Manchester (Old Trafford)</td>\n",
       "      <td>Old Trafford</td>\n",
       "      <td>74,140</td>\n",
       "    </tr>\n",
       "    <tr>\n",
       "      <th>12</th>\n",
       "      <td>Newcastle United</td>\n",
       "      <td>Newcastle upon Tyne</td>\n",
       "      <td>St James' Park</td>\n",
       "      <td>52,305</td>\n",
       "    </tr>\n",
       "    <tr>\n",
       "      <th>13</th>\n",
       "      <td>Norwich City</td>\n",
       "      <td>Norwich</td>\n",
       "      <td>Carrow Road</td>\n",
       "      <td>27,244</td>\n",
       "    </tr>\n",
       "    <tr>\n",
       "      <th>14</th>\n",
       "      <td>Southampton</td>\n",
       "      <td>Southampton</td>\n",
       "      <td>St Mary's Stadium</td>\n",
       "      <td>32,384</td>\n",
       "    </tr>\n",
       "    <tr>\n",
       "      <th>15</th>\n",
       "      <td>Tottenham Hotspur</td>\n",
       "      <td>London (Tottenham)</td>\n",
       "      <td>Tottenham Hotspur Stadium</td>\n",
       "      <td>62,850</td>\n",
       "    </tr>\n",
       "    <tr>\n",
       "      <th>16</th>\n",
       "      <td>Watford</td>\n",
       "      <td>Watford</td>\n",
       "      <td>Vicarage Road</td>\n",
       "      <td>22,200</td>\n",
       "    </tr>\n",
       "    <tr>\n",
       "      <th>17</th>\n",
       "      <td>West Ham United</td>\n",
       "      <td>London (Stratford)</td>\n",
       "      <td>London Stadium</td>\n",
       "      <td>60,000</td>\n",
       "    </tr>\n",
       "    <tr>\n",
       "      <th>18</th>\n",
       "      <td>Wolverhampton Wanderers</td>\n",
       "      <td>Wolverhampton</td>\n",
       "      <td>Molineux Stadium</td>\n",
       "      <td>32,050</td>\n",
       "    </tr>\n",
       "  </tbody>\n",
       "</table>\n",
       "</div>"
      ],
      "text/plain": [
       "                       Team                   Location  \\\n",
       "0               Aston Villa                 Birmingham   \n",
       "1                 Brentford         London (Brentford)   \n",
       "2    Brighton & Hove Albion                     Falmer   \n",
       "3                   Burnley                    Burnley   \n",
       "4                   Chelsea            London (Fulham)   \n",
       "5            Crystal Palace          London (Selhurst)   \n",
       "6                   Everton         Liverpool (Walton)   \n",
       "7              Leeds United                      Leeds   \n",
       "8            Leicester City                  Leicester   \n",
       "9                 Liverpool        Liverpool (Anfield)   \n",
       "10          Manchester City      Manchester (Bradford)   \n",
       "11        Manchester United  Manchester (Old Trafford)   \n",
       "12         Newcastle United        Newcastle upon Tyne   \n",
       "13             Norwich City                    Norwich   \n",
       "14              Southampton                Southampton   \n",
       "15        Tottenham Hotspur         London (Tottenham)   \n",
       "16                  Watford                    Watford   \n",
       "17          West Ham United         London (Stratford)   \n",
       "18  Wolverhampton Wanderers              Wolverhampton   \n",
       "\n",
       "                        Stadium Capacity  \n",
       "0                    Villa Park   42,682  \n",
       "1   Brentford Community Stadium   17,250  \n",
       "2                Falmer Stadium   31,800  \n",
       "3                     Turf Moor   21,944  \n",
       "4               Stamford Bridge   40,834  \n",
       "5                 Selhurst Park   25,486  \n",
       "6                 Goodison Park   39,414  \n",
       "7                   Elland Road   37,792  \n",
       "8            King Power Stadium   32,312  \n",
       "9                       Anfield   53,394  \n",
       "10               Etihad Stadium   53,400  \n",
       "11                 Old Trafford   74,140  \n",
       "12               St James' Park   52,305  \n",
       "13                  Carrow Road   27,244  \n",
       "14            St Mary's Stadium   32,384  \n",
       "15    Tottenham Hotspur Stadium   62,850  \n",
       "16                Vicarage Road   22,200  \n",
       "17               London Stadium   60,000  \n",
       "18             Molineux Stadium   32,050  "
      ]
     },
     "execution_count": 142,
     "metadata": {},
     "output_type": "execute_result"
    }
   ],
   "source": [
    "lst_data = pd.DataFrame(table_data, columns=header)\n",
    "df = lst_data.copy()\n",
    "df.head(20)"
   ]
  },
  {
   "cell_type": "markdown",
   "metadata": {},
   "source": [
    "### Basic Data Cleanup"
   ]
  },
  {
   "cell_type": "code",
   "execution_count": 143,
   "metadata": {},
   "outputs": [
    {
     "data": {
      "text/plain": [
       "Team        object\n",
       "Location    object\n",
       "Stadium     object\n",
       "Capacity     int32\n",
       "dtype: object"
      ]
     },
     "execution_count": 143,
     "metadata": {},
     "output_type": "execute_result"
    }
   ],
   "source": [
    "df['Capacity'] = df['Capacity'].apply(lambda x: float(x.split()[0].replace(',', '')))\n",
    "df['Capacity'] = df['Capacity'].astype(int)\n",
    "df[['Team','Location','Stadium']] = df[['Team','Location','Stadium']].astype(str)\n",
    "df.dtypes"
   ]
  },
  {
   "cell_type": "code",
   "execution_count": 144,
   "metadata": {},
   "outputs": [],
   "source": [
    "df = df.sort_values(\"Capacity\",ascending=False)"
   ]
  },
  {
   "cell_type": "markdown",
   "metadata": {},
   "source": [
    "### Basic Data Visualisation"
   ]
  },
  {
   "cell_type": "markdown",
   "metadata": {},
   "source": [
    "##### Bar Chart To Understand Stadium Capacity"
   ]
  },
  {
   "cell_type": "code",
   "execution_count": 145,
   "metadata": {},
   "outputs": [
    {
     "data": {
      "application/vnd.plotly.v1+json": {
       "config": {
        "plotlyServerURL": "https://plot.ly"
       },
       "data": [
        {
         "alignmentgroup": "True",
         "hovertemplate": "Teams=%{x}<br>Capacity(People)=%{y}<extra></extra>",
         "legendgroup": "",
         "marker": {
          "color": "#034694",
          "pattern": {
           "shape": ""
          }
         },
         "name": "",
         "offsetgroup": "",
         "orientation": "v",
         "showlegend": false,
         "textposition": "auto",
         "type": "bar",
         "x": [
          "Manchester United",
          "Tottenham Hotspur",
          "West Ham United",
          "Manchester City",
          "Liverpool",
          "Newcastle United",
          "Aston Villa",
          "Chelsea",
          "Everton",
          "Leeds United",
          "Southampton",
          "Leicester City",
          "Wolverhampton Wanderers",
          "Brighton & Hove Albion",
          "Norwich City",
          "Crystal Palace",
          "Watford",
          "Burnley",
          "Brentford"
         ],
         "xaxis": "x",
         "y": [
          74140,
          62850,
          60000,
          53400,
          53394,
          52305,
          42682,
          40834,
          39414,
          37792,
          32384,
          32312,
          32050,
          31800,
          27244,
          25486,
          22200,
          21944,
          17250
         ],
         "yaxis": "y"
        }
       ],
       "layout": {
        "bargap": 0.05,
        "barmode": "relative",
        "height": 500,
        "legend": {
         "tracegroupgap": 0
        },
        "template": {
         "data": {
          "bar": [
           {
            "error_x": {
             "color": "#2a3f5f"
            },
            "error_y": {
             "color": "#2a3f5f"
            },
            "marker": {
             "line": {
              "color": "#E5ECF6",
              "width": 0.5
             },
             "pattern": {
              "fillmode": "overlay",
              "size": 10,
              "solidity": 0.2
             }
            },
            "type": "bar"
           }
          ],
          "barpolar": [
           {
            "marker": {
             "line": {
              "color": "#E5ECF6",
              "width": 0.5
             },
             "pattern": {
              "fillmode": "overlay",
              "size": 10,
              "solidity": 0.2
             }
            },
            "type": "barpolar"
           }
          ],
          "carpet": [
           {
            "aaxis": {
             "endlinecolor": "#2a3f5f",
             "gridcolor": "white",
             "linecolor": "white",
             "minorgridcolor": "white",
             "startlinecolor": "#2a3f5f"
            },
            "baxis": {
             "endlinecolor": "#2a3f5f",
             "gridcolor": "white",
             "linecolor": "white",
             "minorgridcolor": "white",
             "startlinecolor": "#2a3f5f"
            },
            "type": "carpet"
           }
          ],
          "choropleth": [
           {
            "colorbar": {
             "outlinewidth": 0,
             "ticks": ""
            },
            "type": "choropleth"
           }
          ],
          "contour": [
           {
            "colorbar": {
             "outlinewidth": 0,
             "ticks": ""
            },
            "colorscale": [
             [
              0,
              "#0d0887"
             ],
             [
              0.1111111111111111,
              "#46039f"
             ],
             [
              0.2222222222222222,
              "#7201a8"
             ],
             [
              0.3333333333333333,
              "#9c179e"
             ],
             [
              0.4444444444444444,
              "#bd3786"
             ],
             [
              0.5555555555555556,
              "#d8576b"
             ],
             [
              0.6666666666666666,
              "#ed7953"
             ],
             [
              0.7777777777777778,
              "#fb9f3a"
             ],
             [
              0.8888888888888888,
              "#fdca26"
             ],
             [
              1,
              "#f0f921"
             ]
            ],
            "type": "contour"
           }
          ],
          "contourcarpet": [
           {
            "colorbar": {
             "outlinewidth": 0,
             "ticks": ""
            },
            "type": "contourcarpet"
           }
          ],
          "heatmap": [
           {
            "colorbar": {
             "outlinewidth": 0,
             "ticks": ""
            },
            "colorscale": [
             [
              0,
              "#0d0887"
             ],
             [
              0.1111111111111111,
              "#46039f"
             ],
             [
              0.2222222222222222,
              "#7201a8"
             ],
             [
              0.3333333333333333,
              "#9c179e"
             ],
             [
              0.4444444444444444,
              "#bd3786"
             ],
             [
              0.5555555555555556,
              "#d8576b"
             ],
             [
              0.6666666666666666,
              "#ed7953"
             ],
             [
              0.7777777777777778,
              "#fb9f3a"
             ],
             [
              0.8888888888888888,
              "#fdca26"
             ],
             [
              1,
              "#f0f921"
             ]
            ],
            "type": "heatmap"
           }
          ],
          "heatmapgl": [
           {
            "colorbar": {
             "outlinewidth": 0,
             "ticks": ""
            },
            "colorscale": [
             [
              0,
              "#0d0887"
             ],
             [
              0.1111111111111111,
              "#46039f"
             ],
             [
              0.2222222222222222,
              "#7201a8"
             ],
             [
              0.3333333333333333,
              "#9c179e"
             ],
             [
              0.4444444444444444,
              "#bd3786"
             ],
             [
              0.5555555555555556,
              "#d8576b"
             ],
             [
              0.6666666666666666,
              "#ed7953"
             ],
             [
              0.7777777777777778,
              "#fb9f3a"
             ],
             [
              0.8888888888888888,
              "#fdca26"
             ],
             [
              1,
              "#f0f921"
             ]
            ],
            "type": "heatmapgl"
           }
          ],
          "histogram": [
           {
            "marker": {
             "pattern": {
              "fillmode": "overlay",
              "size": 10,
              "solidity": 0.2
             }
            },
            "type": "histogram"
           }
          ],
          "histogram2d": [
           {
            "colorbar": {
             "outlinewidth": 0,
             "ticks": ""
            },
            "colorscale": [
             [
              0,
              "#0d0887"
             ],
             [
              0.1111111111111111,
              "#46039f"
             ],
             [
              0.2222222222222222,
              "#7201a8"
             ],
             [
              0.3333333333333333,
              "#9c179e"
             ],
             [
              0.4444444444444444,
              "#bd3786"
             ],
             [
              0.5555555555555556,
              "#d8576b"
             ],
             [
              0.6666666666666666,
              "#ed7953"
             ],
             [
              0.7777777777777778,
              "#fb9f3a"
             ],
             [
              0.8888888888888888,
              "#fdca26"
             ],
             [
              1,
              "#f0f921"
             ]
            ],
            "type": "histogram2d"
           }
          ],
          "histogram2dcontour": [
           {
            "colorbar": {
             "outlinewidth": 0,
             "ticks": ""
            },
            "colorscale": [
             [
              0,
              "#0d0887"
             ],
             [
              0.1111111111111111,
              "#46039f"
             ],
             [
              0.2222222222222222,
              "#7201a8"
             ],
             [
              0.3333333333333333,
              "#9c179e"
             ],
             [
              0.4444444444444444,
              "#bd3786"
             ],
             [
              0.5555555555555556,
              "#d8576b"
             ],
             [
              0.6666666666666666,
              "#ed7953"
             ],
             [
              0.7777777777777778,
              "#fb9f3a"
             ],
             [
              0.8888888888888888,
              "#fdca26"
             ],
             [
              1,
              "#f0f921"
             ]
            ],
            "type": "histogram2dcontour"
           }
          ],
          "mesh3d": [
           {
            "colorbar": {
             "outlinewidth": 0,
             "ticks": ""
            },
            "type": "mesh3d"
           }
          ],
          "parcoords": [
           {
            "line": {
             "colorbar": {
              "outlinewidth": 0,
              "ticks": ""
             }
            },
            "type": "parcoords"
           }
          ],
          "pie": [
           {
            "automargin": true,
            "type": "pie"
           }
          ],
          "scatter": [
           {
            "fillpattern": {
             "fillmode": "overlay",
             "size": 10,
             "solidity": 0.2
            },
            "type": "scatter"
           }
          ],
          "scatter3d": [
           {
            "line": {
             "colorbar": {
              "outlinewidth": 0,
              "ticks": ""
             }
            },
            "marker": {
             "colorbar": {
              "outlinewidth": 0,
              "ticks": ""
             }
            },
            "type": "scatter3d"
           }
          ],
          "scattercarpet": [
           {
            "marker": {
             "colorbar": {
              "outlinewidth": 0,
              "ticks": ""
             }
            },
            "type": "scattercarpet"
           }
          ],
          "scattergeo": [
           {
            "marker": {
             "colorbar": {
              "outlinewidth": 0,
              "ticks": ""
             }
            },
            "type": "scattergeo"
           }
          ],
          "scattergl": [
           {
            "marker": {
             "colorbar": {
              "outlinewidth": 0,
              "ticks": ""
             }
            },
            "type": "scattergl"
           }
          ],
          "scattermapbox": [
           {
            "marker": {
             "colorbar": {
              "outlinewidth": 0,
              "ticks": ""
             }
            },
            "type": "scattermapbox"
           }
          ],
          "scatterpolar": [
           {
            "marker": {
             "colorbar": {
              "outlinewidth": 0,
              "ticks": ""
             }
            },
            "type": "scatterpolar"
           }
          ],
          "scatterpolargl": [
           {
            "marker": {
             "colorbar": {
              "outlinewidth": 0,
              "ticks": ""
             }
            },
            "type": "scatterpolargl"
           }
          ],
          "scatterternary": [
           {
            "marker": {
             "colorbar": {
              "outlinewidth": 0,
              "ticks": ""
             }
            },
            "type": "scatterternary"
           }
          ],
          "surface": [
           {
            "colorbar": {
             "outlinewidth": 0,
             "ticks": ""
            },
            "colorscale": [
             [
              0,
              "#0d0887"
             ],
             [
              0.1111111111111111,
              "#46039f"
             ],
             [
              0.2222222222222222,
              "#7201a8"
             ],
             [
              0.3333333333333333,
              "#9c179e"
             ],
             [
              0.4444444444444444,
              "#bd3786"
             ],
             [
              0.5555555555555556,
              "#d8576b"
             ],
             [
              0.6666666666666666,
              "#ed7953"
             ],
             [
              0.7777777777777778,
              "#fb9f3a"
             ],
             [
              0.8888888888888888,
              "#fdca26"
             ],
             [
              1,
              "#f0f921"
             ]
            ],
            "type": "surface"
           }
          ],
          "table": [
           {
            "cells": {
             "fill": {
              "color": "#EBF0F8"
             },
             "line": {
              "color": "white"
             }
            },
            "header": {
             "fill": {
              "color": "#C8D4E3"
             },
             "line": {
              "color": "white"
             }
            },
            "type": "table"
           }
          ]
         },
         "layout": {
          "annotationdefaults": {
           "arrowcolor": "#2a3f5f",
           "arrowhead": 0,
           "arrowwidth": 1
          },
          "autotypenumbers": "strict",
          "coloraxis": {
           "colorbar": {
            "outlinewidth": 0,
            "ticks": ""
           }
          },
          "colorscale": {
           "diverging": [
            [
             0,
             "#8e0152"
            ],
            [
             0.1,
             "#c51b7d"
            ],
            [
             0.2,
             "#de77ae"
            ],
            [
             0.3,
             "#f1b6da"
            ],
            [
             0.4,
             "#fde0ef"
            ],
            [
             0.5,
             "#f7f7f7"
            ],
            [
             0.6,
             "#e6f5d0"
            ],
            [
             0.7,
             "#b8e186"
            ],
            [
             0.8,
             "#7fbc41"
            ],
            [
             0.9,
             "#4d9221"
            ],
            [
             1,
             "#276419"
            ]
           ],
           "sequential": [
            [
             0,
             "#0d0887"
            ],
            [
             0.1111111111111111,
             "#46039f"
            ],
            [
             0.2222222222222222,
             "#7201a8"
            ],
            [
             0.3333333333333333,
             "#9c179e"
            ],
            [
             0.4444444444444444,
             "#bd3786"
            ],
            [
             0.5555555555555556,
             "#d8576b"
            ],
            [
             0.6666666666666666,
             "#ed7953"
            ],
            [
             0.7777777777777778,
             "#fb9f3a"
            ],
            [
             0.8888888888888888,
             "#fdca26"
            ],
            [
             1,
             "#f0f921"
            ]
           ],
           "sequentialminus": [
            [
             0,
             "#0d0887"
            ],
            [
             0.1111111111111111,
             "#46039f"
            ],
            [
             0.2222222222222222,
             "#7201a8"
            ],
            [
             0.3333333333333333,
             "#9c179e"
            ],
            [
             0.4444444444444444,
             "#bd3786"
            ],
            [
             0.5555555555555556,
             "#d8576b"
            ],
            [
             0.6666666666666666,
             "#ed7953"
            ],
            [
             0.7777777777777778,
             "#fb9f3a"
            ],
            [
             0.8888888888888888,
             "#fdca26"
            ],
            [
             1,
             "#f0f921"
            ]
           ]
          },
          "colorway": [
           "#636efa",
           "#EF553B",
           "#00cc96",
           "#ab63fa",
           "#FFA15A",
           "#19d3f3",
           "#FF6692",
           "#B6E880",
           "#FF97FF",
           "#FECB52"
          ],
          "font": {
           "color": "#2a3f5f"
          },
          "geo": {
           "bgcolor": "white",
           "lakecolor": "white",
           "landcolor": "#E5ECF6",
           "showlakes": true,
           "showland": true,
           "subunitcolor": "white"
          },
          "hoverlabel": {
           "align": "left"
          },
          "hovermode": "closest",
          "mapbox": {
           "style": "light"
          },
          "paper_bgcolor": "white",
          "plot_bgcolor": "#E5ECF6",
          "polar": {
           "angularaxis": {
            "gridcolor": "white",
            "linecolor": "white",
            "ticks": ""
           },
           "bgcolor": "#E5ECF6",
           "radialaxis": {
            "gridcolor": "white",
            "linecolor": "white",
            "ticks": ""
           }
          },
          "scene": {
           "xaxis": {
            "backgroundcolor": "#E5ECF6",
            "gridcolor": "white",
            "gridwidth": 2,
            "linecolor": "white",
            "showbackground": true,
            "ticks": "",
            "zerolinecolor": "white"
           },
           "yaxis": {
            "backgroundcolor": "#E5ECF6",
            "gridcolor": "white",
            "gridwidth": 2,
            "linecolor": "white",
            "showbackground": true,
            "ticks": "",
            "zerolinecolor": "white"
           },
           "zaxis": {
            "backgroundcolor": "#E5ECF6",
            "gridcolor": "white",
            "gridwidth": 2,
            "linecolor": "white",
            "showbackground": true,
            "ticks": "",
            "zerolinecolor": "white"
           }
          },
          "shapedefaults": {
           "line": {
            "color": "#2a3f5f"
           }
          },
          "ternary": {
           "aaxis": {
            "gridcolor": "white",
            "linecolor": "white",
            "ticks": ""
           },
           "baxis": {
            "gridcolor": "white",
            "linecolor": "white",
            "ticks": ""
           },
           "bgcolor": "#E5ECF6",
           "caxis": {
            "gridcolor": "white",
            "linecolor": "white",
            "ticks": ""
           }
          },
          "title": {
           "x": 0.05
          },
          "xaxis": {
           "automargin": true,
           "gridcolor": "white",
           "linecolor": "white",
           "ticks": "",
           "title": {
            "standoff": 15
           },
           "zerolinecolor": "white",
           "zerolinewidth": 2
          },
          "yaxis": {
           "automargin": true,
           "gridcolor": "white",
           "linecolor": "white",
           "ticks": "",
           "title": {
            "standoff": 15
           },
           "zerolinecolor": "white",
           "zerolinewidth": 2
          }
         }
        },
        "title": {
         "text": "Capacity of Stadiums for Premier League Teams"
        },
        "width": 700,
        "xaxis": {
         "anchor": "y",
         "domain": [
          0,
          1
         ],
         "title": {
          "text": "Teams"
         }
        },
        "yaxis": {
         "anchor": "x",
         "domain": [
          0,
          1
         ],
         "title": {
          "text": "Capacity(People)"
         }
        }
       }
      }
     },
     "metadata": {},
     "output_type": "display_data"
    }
   ],
   "source": [
    "colors = ['red', 'white', 'purple', 'lightskyblue','red','grey','purple','blue','lightskyblue','yellow','red','lightskyblue','yellow','blue','green','lightskyblue','blue','red','blue','red']\n",
    "bartitle = 'Capacity of Stadiums for Premier League Teams'\n",
    "\n",
    "fig = px.bar(x=df['Team'], y=df['Capacity'], title = bartitle, labels={'x':'Teams', 'y': 'Capacity(People)'}, color_discrete_sequence=['#034694'])\n",
    "fig.update_layout(width=700, height=500, bargap=0.05)\n",
    "\n",
    "fig.show()"
   ]
  },
  {
   "cell_type": "code",
   "execution_count": 146,
   "metadata": {},
   "outputs": [
    {
     "data": {
      "text/html": [
       "<div>\n",
       "<style scoped>\n",
       "    .dataframe tbody tr th:only-of-type {\n",
       "        vertical-align: middle;\n",
       "    }\n",
       "\n",
       "    .dataframe tbody tr th {\n",
       "        vertical-align: top;\n",
       "    }\n",
       "\n",
       "    .dataframe thead th {\n",
       "        text-align: right;\n",
       "    }\n",
       "</style>\n",
       "<table border=\"1\" class=\"dataframe\">\n",
       "  <thead>\n",
       "    <tr style=\"text-align: right;\">\n",
       "      <th></th>\n",
       "      <th>Team</th>\n",
       "      <th>Location</th>\n",
       "      <th>Stadium</th>\n",
       "      <th>Capacity</th>\n",
       "      <th>Percentage_of_Total</th>\n",
       "    </tr>\n",
       "  </thead>\n",
       "  <tbody>\n",
       "    <tr>\n",
       "      <th>0</th>\n",
       "      <td>Manchester United</td>\n",
       "      <td>Manchester (Old Trafford)</td>\n",
       "      <td>Old Trafford</td>\n",
       "      <td>74140</td>\n",
       "      <td>9.76</td>\n",
       "    </tr>\n",
       "    <tr>\n",
       "      <th>1</th>\n",
       "      <td>Tottenham Hotspur</td>\n",
       "      <td>London (Tottenham)</td>\n",
       "      <td>Tottenham Hotspur Stadium</td>\n",
       "      <td>62850</td>\n",
       "      <td>8.28</td>\n",
       "    </tr>\n",
       "    <tr>\n",
       "      <th>2</th>\n",
       "      <td>West Ham United</td>\n",
       "      <td>London (Stratford)</td>\n",
       "      <td>London Stadium</td>\n",
       "      <td>60000</td>\n",
       "      <td>7.90</td>\n",
       "    </tr>\n",
       "    <tr>\n",
       "      <th>3</th>\n",
       "      <td>Manchester City</td>\n",
       "      <td>Manchester (Bradford)</td>\n",
       "      <td>Etihad Stadium</td>\n",
       "      <td>53400</td>\n",
       "      <td>7.03</td>\n",
       "    </tr>\n",
       "    <tr>\n",
       "      <th>4</th>\n",
       "      <td>Liverpool</td>\n",
       "      <td>Liverpool (Anfield)</td>\n",
       "      <td>Anfield</td>\n",
       "      <td>53394</td>\n",
       "      <td>7.03</td>\n",
       "    </tr>\n",
       "    <tr>\n",
       "      <th>5</th>\n",
       "      <td>Newcastle United</td>\n",
       "      <td>Newcastle upon Tyne</td>\n",
       "      <td>St James' Park</td>\n",
       "      <td>52305</td>\n",
       "      <td>6.89</td>\n",
       "    </tr>\n",
       "    <tr>\n",
       "      <th>6</th>\n",
       "      <td>Aston Villa</td>\n",
       "      <td>Birmingham</td>\n",
       "      <td>Villa Park</td>\n",
       "      <td>42682</td>\n",
       "      <td>5.62</td>\n",
       "    </tr>\n",
       "    <tr>\n",
       "      <th>7</th>\n",
       "      <td>Chelsea</td>\n",
       "      <td>London (Fulham)</td>\n",
       "      <td>Stamford Bridge</td>\n",
       "      <td>40834</td>\n",
       "      <td>5.38</td>\n",
       "    </tr>\n",
       "    <tr>\n",
       "      <th>8</th>\n",
       "      <td>Everton</td>\n",
       "      <td>Liverpool (Walton)</td>\n",
       "      <td>Goodison Park</td>\n",
       "      <td>39414</td>\n",
       "      <td>5.19</td>\n",
       "    </tr>\n",
       "    <tr>\n",
       "      <th>9</th>\n",
       "      <td>Leeds United</td>\n",
       "      <td>Leeds</td>\n",
       "      <td>Elland Road</td>\n",
       "      <td>37792</td>\n",
       "      <td>4.98</td>\n",
       "    </tr>\n",
       "    <tr>\n",
       "      <th>10</th>\n",
       "      <td>Southampton</td>\n",
       "      <td>Southampton</td>\n",
       "      <td>St Mary's Stadium</td>\n",
       "      <td>32384</td>\n",
       "      <td>4.26</td>\n",
       "    </tr>\n",
       "    <tr>\n",
       "      <th>11</th>\n",
       "      <td>Leicester City</td>\n",
       "      <td>Leicester</td>\n",
       "      <td>King Power Stadium</td>\n",
       "      <td>32312</td>\n",
       "      <td>4.25</td>\n",
       "    </tr>\n",
       "    <tr>\n",
       "      <th>12</th>\n",
       "      <td>Wolverhampton Wanderers</td>\n",
       "      <td>Wolverhampton</td>\n",
       "      <td>Molineux Stadium</td>\n",
       "      <td>32050</td>\n",
       "      <td>4.22</td>\n",
       "    </tr>\n",
       "    <tr>\n",
       "      <th>13</th>\n",
       "      <td>Brighton &amp; Hove Albion</td>\n",
       "      <td>Falmer</td>\n",
       "      <td>Falmer Stadium</td>\n",
       "      <td>31800</td>\n",
       "      <td>4.19</td>\n",
       "    </tr>\n",
       "    <tr>\n",
       "      <th>14</th>\n",
       "      <td>Norwich City</td>\n",
       "      <td>Norwich</td>\n",
       "      <td>Carrow Road</td>\n",
       "      <td>27244</td>\n",
       "      <td>3.59</td>\n",
       "    </tr>\n",
       "    <tr>\n",
       "      <th>15</th>\n",
       "      <td>Crystal Palace</td>\n",
       "      <td>London (Selhurst)</td>\n",
       "      <td>Selhurst Park</td>\n",
       "      <td>25486</td>\n",
       "      <td>3.36</td>\n",
       "    </tr>\n",
       "    <tr>\n",
       "      <th>16</th>\n",
       "      <td>Watford</td>\n",
       "      <td>Watford</td>\n",
       "      <td>Vicarage Road</td>\n",
       "      <td>22200</td>\n",
       "      <td>2.92</td>\n",
       "    </tr>\n",
       "    <tr>\n",
       "      <th>17</th>\n",
       "      <td>Burnley</td>\n",
       "      <td>Burnley</td>\n",
       "      <td>Turf Moor</td>\n",
       "      <td>21944</td>\n",
       "      <td>2.89</td>\n",
       "    </tr>\n",
       "    <tr>\n",
       "      <th>18</th>\n",
       "      <td>Brentford</td>\n",
       "      <td>London (Brentford)</td>\n",
       "      <td>Brentford Community Stadium</td>\n",
       "      <td>17250</td>\n",
       "      <td>2.27</td>\n",
       "    </tr>\n",
       "  </tbody>\n",
       "</table>\n",
       "</div>"
      ],
      "text/plain": [
       "                       Team                   Location  \\\n",
       "0         Manchester United  Manchester (Old Trafford)   \n",
       "1         Tottenham Hotspur         London (Tottenham)   \n",
       "2           West Ham United         London (Stratford)   \n",
       "3           Manchester City      Manchester (Bradford)   \n",
       "4                 Liverpool        Liverpool (Anfield)   \n",
       "5          Newcastle United        Newcastle upon Tyne   \n",
       "6               Aston Villa                 Birmingham   \n",
       "7                   Chelsea            London (Fulham)   \n",
       "8                   Everton         Liverpool (Walton)   \n",
       "9              Leeds United                      Leeds   \n",
       "10              Southampton                Southampton   \n",
       "11           Leicester City                  Leicester   \n",
       "12  Wolverhampton Wanderers              Wolverhampton   \n",
       "13   Brighton & Hove Albion                     Falmer   \n",
       "14             Norwich City                    Norwich   \n",
       "15           Crystal Palace          London (Selhurst)   \n",
       "16                  Watford                    Watford   \n",
       "17                  Burnley                    Burnley   \n",
       "18                Brentford         London (Brentford)   \n",
       "\n",
       "                        Stadium  Capacity  Percentage_of_Total  \n",
       "0                  Old Trafford     74140                 9.76  \n",
       "1     Tottenham Hotspur Stadium     62850                 8.28  \n",
       "2                London Stadium     60000                 7.90  \n",
       "3                Etihad Stadium     53400                 7.03  \n",
       "4                       Anfield     53394                 7.03  \n",
       "5                St James' Park     52305                 6.89  \n",
       "6                    Villa Park     42682                 5.62  \n",
       "7               Stamford Bridge     40834                 5.38  \n",
       "8                 Goodison Park     39414                 5.19  \n",
       "9                   Elland Road     37792                 4.98  \n",
       "10            St Mary's Stadium     32384                 4.26  \n",
       "11           King Power Stadium     32312                 4.25  \n",
       "12             Molineux Stadium     32050                 4.22  \n",
       "13               Falmer Stadium     31800                 4.19  \n",
       "14                  Carrow Road     27244                 3.59  \n",
       "15                Selhurst Park     25486                 3.36  \n",
       "16                Vicarage Road     22200                 2.92  \n",
       "17                    Turf Moor     21944                 2.89  \n",
       "18  Brentford Community Stadium     17250                 2.27  "
      ]
     },
     "execution_count": 146,
     "metadata": {},
     "output_type": "execute_result"
    }
   ],
   "source": [
    "\n",
    "Total_Capacity = df['Capacity'].sum()\n",
    "df1 = df\n",
    "Total_Capacity_Percentage = []\n",
    "\n",
    "for row in df['Capacity']:\n",
    "    percentage = round(((row/Total_Capacity)*100), 2)\n",
    "    Total_Capacity_Percentage.append(percentage)\n",
    "\n",
    "df1 = df.assign(Percentage_of_Total=Total_Capacity_Percentage)\n",
    "df1 = df1.reset_index(drop=True)\n",
    "df1\n",
    "\n",
    "\n"
   ]
  },
  {
   "cell_type": "code",
   "execution_count": 147,
   "metadata": {},
   "outputs": [
    {
     "data": {
      "image/png": "[encoded data removed]",
      "text/plain": [
       "<Figure size 432x288 with 1 Axes>"
      ]
     },
     "metadata": {},
     "output_type": "display_data"
    }
   ],
   "source": [
    "labels = df1['Team']\n",
    "sizes = df1['Capacity']\n",
    "colors = ['#da020e', '#132257', '#7f0000', '#97c1e7','#dd0000','#bbbdbf','#7b003a','#034694','#274488','#FFCD00','#ed1a3b','#0053a0','#fdb913','blue','green','lightskyblue','blue','#ed2127','#e3ee4f','#e30613']\n",
    "autopct = df1['Percentage_of_Total']\n",
    "\n",
    "fig =plt.figure()\n",
    "fig.patch.set_facecolor('white')\n",
    "\n",
    "\n",
    "plt.rcParams['text.color'] = 'black'\n",
    "\n",
    "\n",
    "plt.pie(sizes, explode=( 0, 0, 0, 0, 0, 0, 0.05, 0.1, 0.1, 0.1, 0.2, 0.2, 0.2, 0.2, 0.3, 0.3, 0.3, 0.3, 0.3,), labels=labels, colors=colors, autopct='%1.1f%%', shadow=True, startangle=140)\n",
    "\n",
    "plt.axis('equal')\n",
    "plt.rcParams['text.color'] = 'white'\n",
    "plt.title(f\"{bartitle}\\n\" + \"Percentage of Total Capacity\", bbox={'facecolor':'0.9', 'pad':5})\n",
    "plt.show()"
   ]
  },
  {
   "cell_type": "code",
   "execution_count": null,
   "metadata": {},
   "outputs": [],
   "source": []
  }
 ],
 "metadata": {
  "interpreter": {
   "hash": "63250d58fef6396bcaa1f5a93bc33ad0c9ff01acf517a9730549fc7dc0a31d6c"
  },
  "kernelspec": {
   "display_name": "Python 3.9.7 ('base': conda)",
   "language": "python",
   "name": "python3"
  },
  "language_info": {
   "codemirror_mode": {
    "name": "ipython",
    "version": 3
   },
   "file_extension": ".py",
   "mimetype": "text/x-python",
   "name": "python",
   "nbconvert_exporter": "python",
   "pygments_lexer": "ipython3",
   "version": "3.9.7"
  },
  "orig_nbformat": 4
 },
 "nbformat": 4,
 "nbformat_minor": 2
}
